{
 "cells": [
  {
   "attachments": {},
   "cell_type": "markdown",
   "metadata": {},
   "source": [
    "loops\n"
   ]
  },
  {
   "cell_type": "code",
   "execution_count": 1,
   "metadata": {},
   "outputs": [
    {
     "name": "stdout",
     "output_type": "stream",
     "text": [
      "S\n",
      "h\n",
      "a\n",
      "k\n",
      "e\n",
      "s\n",
      "p\n",
      "e\n",
      "a\n",
      "r\n",
      "e\n"
     ]
    }
   ],
   "source": [
    "name = \"Shakespeare\"\n",
    "for char in name:\n",
    "    print (char)"
   ]
  },
  {
   "cell_type": "code",
   "execution_count": 2,
   "metadata": {},
   "outputs": [
    {
     "name": "stdout",
     "output_type": "stream",
     "text": [
      "1\n",
      "3\n",
      "15\n",
      "10\n",
      "12\n"
     ]
    }
   ],
   "source": [
    "x=[1,3,15,10,12]\n",
    "for item in x:\n",
    "    print(item)\n"
   ]
  },
  {
   "cell_type": "code",
   "execution_count": 3,
   "metadata": {},
   "outputs": [],
   "source": [
    "# 10 movies ke naam bolo\n",
    "movies = [\n",
    "    'Shershah',\n",
    "    'Twillight',\n",
    "    'Vivah',\n",
    "    'Student of the year',\n",
    "    'shiddat',\n",
    "    'yeh jaawani hai deewani',\n",
    "    'veere di wedding',\n",
    "    'hacked',\n",
    "    'Fanna',\n",
    "    'chhichore'\n",
    "]"
   ]
  },
  {
   "cell_type": "code",
   "execution_count": 4,
   "metadata": {},
   "outputs": [
    {
     "name": "stdout",
     "output_type": "stream",
     "text": [
      "Shershah |8\n",
      "Twillight |9\n",
      "Vivah |5\n",
      "Student of the year |19\n",
      "shiddat |7\n",
      "yeh jaawani hai deewani |23\n",
      "veere di wedding |16\n",
      "hacked |6\n",
      "Fanna |5\n",
      "chhichore |9\n"
     ]
    }
   ],
   "source": [
    "#for every movie in movies\n",
    "for movie in movies:\n",
    "    print(f'{movie} |{len(movie)}')"
   ]
  },
  {
   "attachments": {},
   "cell_type": "markdown",
   "metadata": {},
   "source": [
    "range function generates sequence in memory using start and end values. -start value is included -end value is excluded"
   ]
  },
  {
   "cell_type": "code",
   "execution_count": 5,
   "metadata": {},
   "outputs": [
    {
     "name": "stdout",
     "output_type": "stream",
     "text": [
      "dont code\n",
      "dont code\n",
      "dont code\n",
      "dont code\n",
      "dont code\n",
      "dont code\n",
      "dont code\n",
      "dont code\n",
      "dont code\n"
     ]
    }
   ],
   "source": [
    "for i in range(1,10):\n",
    "    print('dont code')"
   ]
  },
  {
   "cell_type": "code",
   "execution_count": 6,
   "metadata": {},
   "outputs": [
    {
     "name": "stdout",
     "output_type": "stream",
     "text": [
      "0 1 2 3 4 5 6 7 8 9 10 11 12 13 14 15 16 17 18 19 20 21 22 23 24 25 26 27 28 29 30 31 32 33 34 35 36 37 38 39 40 41 42 43 44 45 46 47 48 49 50 51 52 53 54 55 56 57 58 59 60 61 62 63 64 65 66 67 68 69 70 71 72 73 74 75 76 77 78 79 80 81 82 83 84 85 86 87 88 89 90 91 92 93 94 95 96 97 98 99 100 101 102 103 104 105 106 107 108 109 110 111 112 113 114 115 116 117 118 119 120 121 122 123 124 125 126 127 128 129 130 131 132 133 134 135 136 137 138 139 140 141 142 143 144 145 146 147 148 149 150 151 152 153 154 155 156 157 158 159 160 161 162 163 164 165 166 167 168 169 170 171 172 173 174 175 176 177 178 179 180 181 182 183 184 185 186 187 188 189 190 191 192 193 194 195 196 197 198 199 200 201 202 203 204 205 206 207 208 209 210 211 212 213 214 215 216 217 218 219 220 221 222 223 224 225 226 227 228 229 230 231 232 233 234 235 236 237 238 239 240 241 242 243 244 245 246 247 248 249 250 251 252 253 254 255 256 257 258 259 260 261 262 263 264 265 266 267 268 269 270 271 272 273 274 275 276 277 278 279 280 281 282 283 284 285 286 287 288 289 290 291 292 293 294 295 296 297 298 299 300 301 302 303 304 305 306 307 308 309 310 311 312 313 314 315 316 317 318 319 320 321 322 323 324 325 326 327 328 329 330 331 332 333 334 335 336 337 338 339 340 341 342 343 344 345 346 347 348 349 350 351 352 353 354 355 356 357 358 359 360 361 362 363 364 365 366 367 368 369 370 371 372 373 374 375 376 377 378 379 380 381 382 383 384 385 386 387 388 389 390 391 392 393 394 395 396 397 398 399 400 401 402 403 404 405 406 407 408 409 410 411 412 413 414 415 416 417 418 419 420 421 422 423 424 425 426 427 428 429 430 431 432 433 434 435 436 437 438 439 440 441 442 443 444 445 446 447 448 449 450 451 452 453 454 455 456 457 458 459 460 461 462 463 464 465 466 467 468 469 470 471 472 473 474 475 476 477 478 479 480 481 482 483 484 485 486 487 488 489 490 491 492 493 494 495 496 497 498 499 500 501 502 503 504 505 506 507 508 509 510 511 512 513 514 515 516 517 518 519 520 521 522 523 524 525 526 527 528 529 530 531 532 533 534 535 536 537 538 539 540 541 542 543 544 545 546 547 548 549 550 551 552 553 554 555 556 557 558 559 560 561 562 563 564 565 566 567 568 569 570 571 572 573 574 575 576 577 578 579 580 581 582 583 584 585 586 587 588 589 590 591 592 593 594 595 596 597 598 599 600 601 602 603 604 605 606 607 608 609 610 611 612 613 614 615 616 617 618 619 620 621 622 623 624 625 626 627 628 629 630 631 632 633 634 635 636 637 638 639 640 641 642 643 644 645 646 647 648 649 650 651 652 653 654 655 656 657 658 659 660 661 662 663 664 665 666 667 668 669 670 671 672 673 674 675 676 677 678 679 680 681 682 683 684 685 686 687 688 689 690 691 692 693 694 695 696 697 698 699 700 701 702 703 704 705 706 707 708 709 710 711 712 713 714 715 716 717 718 719 720 721 722 723 724 725 726 727 728 729 730 731 732 733 734 735 736 737 738 739 740 741 742 743 744 745 746 747 748 749 750 751 752 753 754 755 756 757 758 759 760 761 762 763 764 765 766 767 768 769 770 771 772 773 774 775 776 777 778 779 780 781 782 783 784 785 786 787 788 789 790 791 792 793 794 795 796 797 798 799 800 801 802 803 804 805 806 807 808 809 810 811 812 813 814 815 816 817 818 819 820 821 822 823 824 825 826 827 828 829 830 831 832 833 834 835 836 837 838 839 840 841 842 843 844 845 846 847 848 849 850 851 852 853 854 855 856 857 858 859 860 861 862 863 864 865 866 867 868 869 870 871 872 873 874 875 876 877 878 879 880 881 882 883 884 885 886 887 888 889 890 891 892 893 894 895 896 897 898 899 900 901 902 903 904 905 906 907 908 909 910 911 912 913 914 915 916 917 918 919 920 921 922 923 924 925 926 927 928 929 930 931 932 933 934 935 936 937 938 939 940 941 942 943 944 945 946 947 948 949 950 951 952 953 954 955 956 957 958 959 960 961 962 963 964 965 966 967 968 969 970 971 972 973 974 975 976 977 978 979 980 981 982 983 984 985 986 987 988 989 990 991 992 993 994 995 996 997 998 999 "
     ]
    }
   ],
   "source": [
    "#if one value is passed in range(), then that is the end value\n",
    "for x in range(1000):\n",
    "    print (x, end= ' ') #end is a etting for print function\n",
    "    #by default print changes line,  ut here we putting spaces"
   ]
  },
  {
   "cell_type": "code",
   "execution_count": 7,
   "metadata": {},
   "outputs": [
    {
     "name": "stdout",
     "output_type": "stream",
     "text": [
      "1 6 11 16 21 26 31 36 41 46 51 56 61 66 71 76 81 86 91 96 "
     ]
    }
   ],
   "source": [
    "#range() can also take 3 values, first is start value, second is end value\n",
    "#lat in the gap betwee each step\n",
    "for i in range(1, 100, 5):\n",
    "    print(i,end=' ')\n"
   ]
  },
  {
   "cell_type": "code",
   "execution_count": 8,
   "metadata": {},
   "outputs": [
    {
     "name": "stdout",
     "output_type": "stream",
     "text": [
      "1 3 5 7 9 11 13 15 17 19 21 23 25 27 29 31 33 35 37 39 41 43 45 47 49 51 53 55 57 59 61 63 65 67 69 71 73 75 77 79 81 83 85 87 89 91 93 95 97 99 "
     ]
    }
   ],
   "source": [
    "#wap to print all odd numbers from 1 to 100\n",
    "for i in range(1,100,2):\n",
    "    print(i,end=' ')"
   ]
  },
  {
   "cell_type": "code",
   "execution_count": 9,
   "metadata": {},
   "outputs": [
    {
     "name": "stdout",
     "output_type": "stream",
     "text": [
      "1\n",
      "3\n",
      "5\n",
      "7\n",
      "9\n",
      "11\n",
      "13\n",
      "15\n",
      "17\n",
      "19\n",
      "21\n",
      "23\n",
      "25\n",
      "27\n",
      "29\n",
      "31\n",
      "33\n",
      "35\n",
      "37\n",
      "39\n",
      "41\n",
      "43\n",
      "45\n",
      "47\n",
      "49\n",
      "51\n",
      "53\n",
      "55\n",
      "57\n",
      "59\n",
      "61\n",
      "63\n",
      "65\n",
      "67\n",
      "69\n",
      "71\n",
      "73\n",
      "75\n",
      "77\n",
      "79\n",
      "81\n",
      "83\n",
      "85\n",
      "87\n",
      "89\n",
      "91\n",
      "93\n",
      "95\n",
      "97\n",
      "99\n"
     ]
    }
   ],
   "source": [
    "for i in range(1,101):\n",
    "    if i%2!=0:\n",
    "        print(i)\n"
   ]
  },
  {
   "cell_type": "code",
   "execution_count": 10,
   "metadata": {},
   "outputs": [
    {
     "name": "stdout",
     "output_type": "stream",
     "text": [
      "10\n",
      "9\n",
      "8\n",
      "7\n",
      "6\n",
      "5\n",
      "4\n",
      "3\n",
      "2\n",
      "1\n"
     ]
    }
   ],
   "source": [
    "for i in range(10, 0, -1):\n",
    "    print(i)"
   ]
  },
  {
   "cell_type": "code",
   "execution_count": 11,
   "metadata": {},
   "outputs": [
    {
     "name": "stdout",
     "output_type": "stream",
     "text": [
      "(0, 45)\n",
      "(1, 52)\n",
      "(2, 87)\n",
      "(3, 96)\n",
      "(4, 95)\n",
      "(5, 32)\n"
     ]
    }
   ],
   "source": [
    "data = [45,52,87,96,95,32]\n",
    "for item in enumerate(data):\n",
    "    print(item)\n"
   ]
  },
  {
   "cell_type": "code",
   "execution_count": 12,
   "metadata": {},
   "outputs": [
    {
     "name": "stdout",
     "output_type": "stream",
     "text": [
      "0 45\n",
      "1 52\n",
      "2 87\n",
      "3 96\n",
      "4 95\n",
      "5 32\n"
     ]
    }
   ],
   "source": [
    "for i,v in enumerate(data):\n",
    "    print(i, v)"
   ]
  },
  {
   "cell_type": "code",
   "execution_count": 13,
   "metadata": {},
   "outputs": [
    {
     "name": "stdout",
     "output_type": "stream",
     "text": [
      "total app:78\n"
     ]
    }
   ],
   "source": [
    "apps=[\n",
    "    'airtel live',\n",
    "    'apna',\n",
    "    'airtel',\n",
    "    'ajio',\n",
    "    'amazon',\n",
    "    'assistant',\n",
    "    'big basket',\n",
    "    'blinkit',\n",
    "    'b612',\n",
    "    'calculator',\n",
    "    'castle',\n",
    "    'chrome',\n",
    "    'classroom',\n",
    "    'discovery',\n",
    "    'digi locker',\n",
    "    'doc vault',\n",
    "    'dominos',\n",
    "    'drive',\n",
    "    'flipkart',\n",
    "    'gmail',\n",
    "    'google',\n",
    "    'gpay',\n",
    "    'hey fun',\n",
    "    'hotstar',\n",
    "    'hot apps',\n",
    "    'indriver',\n",
    "    'incollage',\n",
    "    'instagram',\n",
    "    'instore',\n",
    "    'internet',\n",
    "    'ip webcam',\n",
    "    'jio cinema',\n",
    "    'jio tv',\n",
    "    'keep notes',\n",
    "    'lens',\n",
    "    'linkedin',\n",
    "    'maxim',\n",
    "    'maps',\n",
    "    'meet',\n",
    "    'message',\n",
    "    'messenger',\n",
    "    'music',\n",
    "    'my jio',\n",
    "    'myntra',\n",
    "    'my files',\n",
    "    'my tom',\n",
    "    'news',\n",
    "    'ngl',\n",
    "    'noise fit',\n",
    "    'no crop filter',\n",
    "    'ola',\n",
    "    'pdf maker',\n",
    "    'phone',\n",
    "    'photos',\n",
    "    'piano',\n",
    "    'pydroid 3',\n",
    "    'settings',\n",
    "    'set caller tune',\n",
    "    'share me',\n",
    "    'snapchat',\n",
    "    'spotify',\n",
    "    'telegram',\n",
    "    'theme store',\n",
    "    'truecaller',\n",
    "    'twitter',\n",
    "    'uber',\n",
    "    'urbanic',\n",
    "    'vega',\n",
    "    'videos',\n",
    "    'video to audio',\n",
    "    'vn',\n",
    "    'weather',\n",
    "    'whatsapp',\n",
    "    'wps office',\n",
    "    'you tube',\n",
    "    'zomato',\n",
    "    'zoom',\n",
    "    '325',\n",
    "]\n",
    "print(f'total app:{len(apps)}')\n"
   ]
  },
  {
   "cell_type": "code",
   "execution_count": 14,
   "metadata": {},
   "outputs": [],
   "source": [
    "x= [1,2,3,4,5]\n",
    "y= [10,20,30,40,50]"
   ]
  },
  {
   "cell_type": "code",
   "execution_count": 15,
   "metadata": {},
   "outputs": [
    {
     "name": "stdout",
     "output_type": "stream",
     "text": [
      "11\n",
      "22\n",
      "33\n",
      "44\n",
      "55\n"
     ]
    }
   ],
   "source": [
    "# not pythonic\n",
    "for i in range(len(x)):\n",
    "    out = x[i]+y[i]\n",
    "    print(out)"
   ]
  },
  {
   "cell_type": "code",
   "execution_count": 16,
   "metadata": {},
   "outputs": [
    {
     "name": "stdout",
     "output_type": "stream",
     "text": [
      "11\n",
      "22\n",
      "33\n",
      "44\n",
      "55\n"
     ]
    }
   ],
   "source": [
    "#pythonic\n",
    "for i,j in zip(x,y):\n",
    "    out= i+j\n",
    "    print(out)"
   ]
  },
  {
   "cell_type": "code",
   "execution_count": 17,
   "metadata": {},
   "outputs": [
    {
     "name": "stdout",
     "output_type": "stream",
     "text": [
      "16\n",
      "90\n",
      "42\n",
      "192\n",
      "225\n",
      "72\n"
     ]
    }
   ],
   "source": [
    "x= [2,5,7,8,9,6,4]\n",
    "y= [8,9,2,4,5,3]\n",
    "z= [1,2,3,6,5,4]\n",
    "for i,j,k in zip(x,y,z):\n",
    "    r= i * j * k #some equation\n",
    "    print(r)"
   ]
  },
  {
   "cell_type": "code",
   "execution_count": 18,
   "metadata": {},
   "outputs": [
    {
     "name": "stdout",
     "output_type": "stream",
     "text": [
      "['airtel live', 'apna', 'airtel', 'ajio', 'amazon', 'assistant', 'big basket', 'blinkit', 'b612', 'calculator', 'castle', 'chrome', 'classroom', 'discovery', 'digi locker', 'doc vault', 'dominos', 'drive', 'flipkart', 'gmail', 'google', 'gpay', 'hey fun', 'hotstar', 'hot apps', 'indriver', 'incollage', 'instagram', 'instore', 'internet', 'ip webcam', 'jio cinema', 'jio tv', 'keep notes', 'lens', 'linkedin', 'maxim', 'maps', 'meet', 'message', 'messenger', 'music', 'my jio', 'myntra', 'my files', 'my tom', 'news', 'ngl', 'noise fit', 'no crop filter', 'ola', 'pdf maker', 'phone', 'photos', 'piano', 'pydroid 3', 'settings', 'set caller tune', 'share me', 'snapchat', 'spotify', 'telegram', 'theme store', 'truecaller', 'twitter', 'uber', 'urbanic', 'vega', 'videos', 'video to audio', 'vn', 'weather', 'whatsapp', 'wps office', 'you tube', 'zomato', 'zoom', '325']\n"
     ]
    }
   ],
   "source": [
    "print(apps)"
   ]
  },
  {
   "cell_type": "code",
   "execution_count": 19,
   "metadata": {},
   "outputs": [
    {
     "name": "stdout",
     "output_type": "stream",
     "text": [
      "0 airtel live\n",
      "1 apna\n",
      "2 airtel\n",
      "3 ajio\n",
      "4 amazon\n",
      "5 assistant\n",
      "6 big basket\n",
      "7 blinkit\n",
      "8 b612\n",
      "9 calculator\n",
      "10 castle\n",
      "11 chrome\n",
      "12 classroom\n",
      "13 discovery\n",
      "14 digi locker\n",
      "15 doc vault\n",
      "16 dominos\n",
      "17 drive\n",
      "18 flipkart\n",
      "19 gmail\n",
      "20 google\n",
      "21 gpay\n",
      "22 hey fun\n",
      "23 hotstar\n",
      "24 hot apps\n",
      "25 indriver\n",
      "26 incollage\n",
      "27 instagram\n",
      "28 instore\n",
      "29 internet\n",
      "30 ip webcam\n",
      "31 jio cinema\n",
      "32 jio tv\n"
     ]
    }
   ],
   "source": [
    "for i,app in enumerate(apps):\n",
    "    if i > 32:\n",
    "        break\n",
    "    print(i,app)"
   ]
  },
  {
   "cell_type": "code",
   "execution_count": 20,
   "metadata": {},
   "outputs": [
    {
     "name": "stdout",
     "output_type": "stream",
     "text": [
      "airtel live\n",
      "apna\n",
      "airtel\n",
      "ajio\n",
      "amazon\n",
      "assistant\n",
      "big basket\n",
      "blinkit\n",
      "b612\n",
      "calculator\n",
      "castle\n"
     ]
    }
   ],
   "source": [
    "for app in apps:\n",
    "    if app == 'chrome':\n",
    "        break\n",
    "    print(app)"
   ]
  },
  {
   "cell_type": "code",
   "execution_count": 21,
   "metadata": {},
   "outputs": [
    {
     "name": "stdout",
     "output_type": "stream",
     "text": [
      "airtel live\n",
      "apna\n",
      "airtel\n",
      "ajio\n"
     ]
    }
   ],
   "source": [
    "# if ant app contain 'z' in name,then stop\n",
    "for app in apps:\n",
    "    if 'z' in app:\n",
    "        break\n",
    "    print(app)\n"
   ]
  },
  {
   "cell_type": "code",
   "execution_count": 22,
   "metadata": {},
   "outputs": [
    {
     "name": "stdout",
     "output_type": "stream",
     "text": [
      "airtel live\n",
      "apna\n",
      "airtel\n",
      "ajio\n",
      "z found in amazon\n"
     ]
    }
   ],
   "source": [
    "for app in apps:\n",
    "    if 'z' in app:\n",
    "        print(f'z found in {app}')\n",
    "        break\n",
    "    print(app)"
   ]
  },
  {
   "cell_type": "code",
   "execution_count": 23,
   "metadata": {},
   "outputs": [
    {
     "name": "stdout",
     "output_type": "stream",
     "text": [
      "airtel live\n",
      "apna\n",
      "airtel\n",
      "ajio\n",
      "amazon\n",
      "assistant\n",
      "big basket\n",
      "blinkit\n",
      "b612\n",
      "calculator\n",
      "castle\n",
      "chrome\n",
      "classroom\n",
      "discovery\n",
      "digi locker\n",
      "doc vault\n",
      "dominos\n",
      "drive\n",
      "flipkart\n",
      "gmail\n",
      "google\n",
      "gpay\n",
      "hey fun\n",
      "hotstar\n",
      "hot apps\n",
      "indriver\n",
      "incollage\n",
      "instagram\n",
      "instore\n",
      "internet\n",
      "ip webcam\n",
      "jio cinema\n",
      "jio tv\n",
      "keep notes\n",
      "lens\n",
      "linkedin\n",
      "maxim\n",
      "maps\n",
      "meet\n",
      "message\n",
      "messenger\n",
      "music\n",
      "my jio\n",
      "myntra\n",
      "my files\n",
      "my tom\n",
      "news\n",
      "ngl\n",
      "noise fit\n",
      "no crop filter\n",
      "ola\n",
      "pdf maker\n",
      "phone\n",
      "photos\n",
      "piano\n",
      "pydroid 3\n",
      "settings\n",
      "set caller tune\n",
      "share me\n",
      "snapchat\n",
      "spotify\n",
      "telegram\n",
      "theme store\n",
      "truecaller\n",
      "twitter\n",
      "uber\n",
      "urbanic\n",
      "vega\n",
      "videos\n",
      "video to audio\n",
      "vn\n",
      "weather\n",
      "whatsapp\n",
      "wps office\n",
      "you tube\n",
      "z was found in zomato\n"
     ]
    }
   ],
   "source": [
    "c = 0\n",
    "for app in apps:\n",
    "    if 'z' in app:\n",
    "        c += 1\n",
    "    if c == 2:\n",
    "        print(f'z was found in {app}')\n",
    "        break\n",
    "    print(app)  "
   ]
  },
  {
   "cell_type": "code",
   "execution_count": 24,
   "metadata": {},
   "outputs": [
    {
     "name": "stdout",
     "output_type": "stream",
     "text": [
      "1\n",
      "2\n",
      "5\n",
      "5\n",
      "2\n",
      "5\n",
      "7\n",
      "2\n",
      "21\n"
     ]
    }
   ],
   "source": [
    "x = [1,2,0,5,5,0,2,5,0,7,0,0,2,21]\n",
    "for i in x:\n",
    "    if i==0:\n",
    "        continue #skip the value of i if 0\n",
    "    print(i)"
   ]
  },
  {
   "cell_type": "code",
   "execution_count": 25,
   "metadata": {},
   "outputs": [
    {
     "name": "stdout",
     "output_type": "stream",
     "text": [
      "apna\n",
      "ajio\n",
      "amazon\n",
      "assistant\n",
      "blinkit\n",
      "b612\n",
      "calculator\n",
      "classroom\n",
      "doc vault\n",
      "dominos\n",
      "flipkart\n",
      "gmail\n",
      "gpay\n",
      "hotstar\n",
      "hot apps\n",
      "instagram\n",
      "jio tv\n",
      "maxim\n",
      "maps\n",
      "music\n",
      "my jio\n",
      "myntra\n",
      "my tom\n",
      "ngl\n",
      "ola\n",
      "photos\n",
      "piano\n",
      "pydroid 3\n",
      "snapchat\n",
      "spotify\n",
      "urbanic\n",
      "vn\n",
      "whatsapp\n",
      "zomato\n",
      "zoom\n",
      "325\n"
     ]
    }
   ],
   "source": [
    "for app in apps:\n",
    "    if 'e' in app:\n",
    "        continue\n",
    "    print(app)"
   ]
  },
  {
   "cell_type": "code",
   "execution_count": 26,
   "metadata": {},
   "outputs": [
    {
     "name": "stdout",
     "output_type": "stream",
     "text": [
      "b612\n",
      "ngl\n",
      "vn\n",
      "325\n"
     ]
    }
   ],
   "source": [
    "for app in apps:\n",
    "    if 'e' in app or 'a' in app or 'i' in app or 'o' in app or 'u' in app:\n",
    "        continue\n",
    "    print(app)"
   ]
  },
  {
   "attachments": {},
   "cell_type": "markdown",
   "metadata": {},
   "source": [
    "while loop\n",
    "\n",
    "while condition: statement 1 .... statement n"
   ]
  },
  {
   "cell_type": "code",
   "execution_count": 27,
   "metadata": {},
   "outputs": [
    {
     "name": "stdout",
     "output_type": "stream",
     "text": [
      "15\n"
     ]
    }
   ],
   "source": [
    "#sum of all digits\n",
    "num = 12345\n",
    "total=0\n",
    "while num>0:\n",
    "    total += num % 10\n",
    "    num = num // 10\n",
    "print(total)    "
   ]
  },
  {
   "cell_type": "code",
   "execution_count": 28,
   "metadata": {},
   "outputs": [
    {
     "name": "stdout",
     "output_type": "stream",
     "text": [
      "5\n",
      "9\n",
      "12\n",
      "14\n",
      "15\n"
     ]
    }
   ],
   "source": [
    "num = 12345\n",
    "total=0\n",
    "while num>0:\n",
    "    total += num % 10\n",
    "    num = num // 10\n",
    "    print(total) "
   ]
  },
  {
   "cell_type": "code",
   "execution_count": 29,
   "metadata": {},
   "outputs": [
    {
     "name": "stdout",
     "output_type": "stream",
     "text": [
      "welcome miss\n"
     ]
    }
   ],
   "source": [
    "retry = 0\n",
    "while retry < 3:\n",
    "    pin = input('enter pin:')\n",
    "    if pin == '4721':\n",
    "        print(\"welcome miss\")\n",
    "        break\n",
    "    else:\n",
    "        print(f'wrong pin, {2-retry} tries left')\n",
    "        retry += 1"
   ]
  },
  {
   "cell_type": "code",
   "execution_count": 30,
   "metadata": {},
   "outputs": [
    {
     "name": "stdout",
     "output_type": "stream",
     "text": [
      "1\n",
      "2\n",
      "3\n",
      "4\n",
      "52\n"
     ]
    }
   ],
   "source": [
    "x = [1,2,3,4,52,1,1,23,12,3,23]\n",
    "for i in x:\n",
    "    print(i)\n",
    "    if i == 52:\n",
    "        break"
   ]
  },
  {
   "cell_type": "code",
   "execution_count": 31,
   "metadata": {},
   "outputs": [
    {
     "name": "stdout",
     "output_type": "stream",
     "text": [
      "1\n",
      "2\n",
      "3\n",
      "4\n",
      "52\n",
      "1\n",
      "1\n",
      "23\n",
      "12\n",
      "3\n",
      "23\n",
      "loop completed\n"
     ]
    }
   ],
   "source": [
    "# for-else loop\n",
    "for i in x:\n",
    "    print(i)\n",
    "else:\n",
    "    print('loop completed')"
   ]
  },
  {
   "cell_type": "code",
   "execution_count": 32,
   "metadata": {},
   "outputs": [
    {
     "name": "stdout",
     "output_type": "stream",
     "text": [
      "h\n",
      "e\n",
      "l\n",
      "l\n",
      "o\n"
     ]
    }
   ],
   "source": [
    "message = input(\"enter a message:\")\n",
    "for char in message:\n",
    "    if char == ' ':\n",
    "        break\n",
    "    print(char)\n",
    "else:\n",
    "    print('message does not contain space')"
   ]
  },
  {
   "cell_type": "code",
   "execution_count": null,
   "metadata": {},
   "outputs": [],
   "source": []
  }
 ],
 "metadata": {
  "kernelspec": {
   "display_name": "base",
   "language": "python",
   "name": "python3"
  },
  "language_info": {
   "codemirror_mode": {
    "name": "ipython",
    "version": 3
   },
   "file_extension": ".py",
   "mimetype": "text/x-python",
   "name": "python",
   "nbconvert_exporter": "python",
   "pygments_lexer": "ipython3",
   "version": "3.10.9"
  },
  "orig_nbformat": 4,
  "vscode": {
   "interpreter": {
    "hash": "bd97b8bffa4d3737e84826bc3d37be3046061822757ce35137ab82ad4c5a2016"
   }
  }
 },
 "nbformat": 4,
 "nbformat_minor": 2
}
